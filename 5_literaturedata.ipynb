{
 "cells": [
  {
   "cell_type": "code",
   "execution_count": 131,
   "id": "fc1411ec-df41-4e8e-a172-ce3644e7f93b",
   "metadata": {},
   "outputs": [],
   "source": [
    "import numpy as np\n",
    "from astropy.coordinates import SkyCoord\n",
    "import astropy.units as u\n",
    "import matplotlib.pyplot as plt\n",
    "from my_script import log_value,run_myradex_of,mol_data\n",
    "from scipy.constants import h,k,c\n",
    "from astroquery.ipac.ned import Ned"
   ]
  },
  {
   "cell_type": "code",
   "execution_count": 2,
   "id": "00b613ad-139b-4429-9c01-e61a6016fa29",
   "metadata": {},
   "outputs": [],
   "source": [
    "RBGS_basic=np.loadtxt('references/RBGS.csv',delimiter=',',dtype=str)\n",
    "sample_info=np.loadtxt('references/total_info_v2.csv',delimiter=',',dtype=str)\n",
    "basic_info=sample_info\n",
    "sample_cor,RBGS_cor=[],[]\n",
    "for i in range(1,len(sample_info)):\n",
    "    ra,dec=sample_info[i,1:3]\n",
    "    sample_cor.append(SkyCoord(ra,dec,frame=\"icrs\",unit=(u.hourangle, u.deg)))\n",
    "for i in range(len(RBGS_basic)):\n",
    "    ra=RBGS_basic[i,4].strip().replace(' ',':')\n",
    "    dec=RBGS_basic[i,5].strip().replace(' ',':')\n",
    "    RBGS_cor.append(SkyCoord(ra,dec,frame=\"icrs\",unit=(u.hourangle, u.deg))) \n",
    "def read_distance(sourcename):\n",
    "    idx=np.where(basic_info[:,0]==sourcename)[0][0]\n",
    "    d,r=float(basic_info[idx,4]),float(basic_info[idx,3])\n",
    "    if not np.isnan(d):\n",
    "        distance=d\n",
    "    else:\n",
    "        distance=r*c/1e3/67.8\n",
    "    return distance\n",
    "def read_redshift(sourcename):\n",
    "    idx=np.where(basic_info[:,0]==sourcename)[0][0]\n",
    "    d,r=float(basic_info[idx,4]),float(basic_info[idx,3])\n",
    "    if not np.isnan(r):\n",
    "        redshift=r\n",
    "    else:\n",
    "        redshift=d*67.8/c*1e3\n",
    "    return redshift"
   ]
  },
  {
   "cell_type": "code",
   "execution_count": 3,
   "id": "e519e19f-c3c0-4af7-82f2-e3643a559ef1",
   "metadata": {},
   "outputs": [],
   "source": [
    "idx_in_RBGS=np.zeros(len(sample_info)-1)\n",
    "idx_in_RBGS[:]=np.nan\n",
    "for i in range(1,len(sample_info)):\n",
    "    targcor=sample_cor[i-1]\n",
    "    sep=np.zeros(len(RBGS_basic))\n",
    "    for j in range(len(RBGS_basic)):\n",
    "        sep[j]=targcor.separation(RBGS_cor[j]).deg\n",
    "    idx=np.argmin(sep)\n",
    "    if sep[idx]<1/60:\n",
    "        idx_in_RBGS[i-1]=idx"
   ]
  },
  {
   "cell_type": "code",
   "execution_count": 4,
   "id": "12f9976c-016f-4bb4-ac47-9fccd3f0b2ed",
   "metadata": {},
   "outputs": [
    {
     "data": {
      "text/plain": [
       "array(['  59.62', '  77.60', '   3.10', ' 105.76', '  15.90', '  35.31',\n",
       "       '  16.20', '  21.92', '  81.20', '  47.28', '   0.79', '  79.23',\n",
       "       '   3.10', '   3.10', '  11.45', '  21.60', '  64.28', '   0.06',\n",
       "       '  60.71', '   2.00', '  70.30', '  21.59', '  78.57', ' 136.17',\n",
       "       '  90.96', '  31.12', ' 122.02', '  33.16', '  30.22', '   0.84',\n",
       "       '  14.98', '  63.37', '   4.46', '   9.99', '  67.88', ' 188.37',\n",
       "       '  54.59', '  12.33', ' 106.96', '  21.21', ' 126.70', '  40.81',\n",
       "       '  19.87', '  59.02', '  73.48', '  63.96', '  28.71', '  49.33',\n",
       "       '  52.90', '  70.37', '  50.13', '  51.10', '  61.48', ' 117.29',\n",
       "       '  52.45', '  50.29', '   8.57', ' 131.71', '  15.75', '  61.97',\n",
       "       '  40.57', '   9.16', '  76.36', '  20.65', '  26.43', '  53.83',\n",
       "       '  19.33', '  11.31', '  51.32', '  21.33', '  13.70', '  53.46',\n",
       "       '  18.61', '  83.37', '  90.66', '  20.05', '  16.80', '  47.41',\n",
       "       ' 121.94', '  53.78', '   6.96', '  47.70', '  66.34', '  18.32',\n",
       "       '  58.51', '  32.26', '  22.13', '  91.16', '  28.86', '  69.33',\n",
       "       '   4.00', '  28.11', '  91.84', '  16.13', '  24.64', '  17.93',\n",
       "       '  23.66', '  10.90', '  15.90', ' 137.11', '  18.98', '  20.91',\n",
       "       '  21.20', '   4.60', '  11.47', '  19.46', '  59.30', '  20.06',\n",
       "       '  86.84', '  25.09', ' 119.05', '  16.33', '  15.86', '  67.57',\n",
       "       '  15.51', '  47.60', '  15.93', '  13.75', '  12.69', '  36.22',\n",
       "       '  19.10', ' 126.43', '  81.50', '   4.60', '  74.65', '  28.32',\n",
       "       '  62.61', '  97.06', '  60.51', '  10.16', '  16.82', ' 208.86',\n",
       "       '  60.51', '  24.79', '  75.05', '  60.65', '  50.29', '  55.68',\n",
       "       '  12.54', '  59.13', '  66.78', '  12.61', ' 214.83', '  91.29',\n",
       "       '  59.48', '  26.24', ' 109.16', ' 118.44', ' 111.81', ' 168.64',\n",
       "       ' 116.77', '   0.05', '  18.65', '  55.27', '  77.22', '  57.68',\n",
       "       '  60.87', '  74.95', '  29.48', '  11.64', '  25.11', '  54.78',\n",
       "       '  14.52', ' 148.80', '  16.47', '  36.93', '  40.17', '  10.19',\n",
       "       '  27.28', '  33.83', '  22.36', ' 155.32', '  85.61', '  21.54',\n",
       "       '  28.16', '  36.36', '  88.51', '  94.76', '  30.24', ' 127.33',\n",
       "       '  32.10', '  72.21', '  41.10', '  36.22', '  35.83', '  28.04',\n",
       "       '  44.02', '  42.07', '  56.37', '  16.08', '  31.08', ' 343.74',\n",
       "       '  57.80', '   3.22', '  67.63', '  53.41', '  17.33', '  38.07',\n",
       "       '  11.81', '  22.69', '  22.43', '  20.18', '  79.33', '  77.43',\n",
       "       ' 107.50', '  68.55', '  33.65', '  24.35', '  36.31', '   7.34',\n",
       "       '  12.47', ' 186.88', '  24.36', ' 232.19', '  36.73', ' 238.84',\n",
       "       '  24.68', '  26.85', '  39.51', ' 218.20', '  41.27', '  37.25',\n",
       "       ' 161.16', '  27.84', '  40.08', '   8.26', ' 158.61', ' 107.06',\n",
       "       '  26.56', '  28.65', '  31.16', '  22.82', '   2.68', '  33.15',\n",
       "       '  34.69', '  87.01', '  22.92', '  14.24', '  19.98', '   3.63',\n",
       "       '   3.63', '  41.16', '  25.09', '  31.28', '  36.86', '  18.19',\n",
       "       '  37.04', '   2.46', '  73.48', ' 141.58', '   9.39', '  15.72',\n",
       "       '  21.27', '  20.61', '  13.45', '  41.41', '  22.34', '  12.58',\n",
       "       '  13.79', ' 198.65', '  58.68', '  19.81', '  52.10', '  37.69',\n",
       "       '  35.35', '  38.79', '  38.41', '  42.91', '  23.69', '  19.81',\n",
       "       '   6.70', ' 100.50', '   9.99', '  16.81', '  46.13', '  10.51',\n",
       "       '  27.85', '  26.17', '   9.48', '  22.23', '  24.06', '  34.07',\n",
       "       ' 176.26', '  75.74', '  22.07', '   9.23', '  27.07', '  56.26',\n",
       "       '  13.60', ' 143.21', '   6.84', '  11.66', '  32.40', '  30.06',\n",
       "       '  13.85', '  35.09', '   5.04', '  48.31', '  19.66', '   6.64',\n",
       "       '  10.04', '  10.04', '  21.58', ' 106.27', '  26.42', '  27.70',\n",
       "       ' 142.89', '  12.69', '  29.06', '  72.26', '  47.74', '  21.39',\n",
       "       '  14.53', '  25.08', '  36.04', '  15.36', '  15.14', '  20.62',\n",
       "       '  22.93', '  16.07', '  16.35', '  14.75', '  37.70', '  13.61',\n",
       "       '  17.58', '  19.78', '  23.37', '  21.04', '  48.22', '  13.76',\n",
       "       '  22.84', '  24.50', '  21.54', '  22.78', '  30.89', '  13.11',\n",
       "       '  14.55', '  13.37', '   9.63', '  17.73', '  16.89', ' 100.48',\n",
       "       '  15.29', '  18.99', '  13.30', '  59.85', ' 292.48', '  15.29',\n",
       "       '  88.67', '  40.33', ' 115.68', '  30.92', '  15.29', '   3.67',\n",
       "       '  17.13', '  22.58', '  15.29', '  15.29', '  15.29', '  15.29',\n",
       "       '  30.52', '  15.20', '  43.50', '  20.21', ' 112.70', '  15.29',\n",
       "       '  15.29', '  15.29', '  17.68', '  31.90', '  15.29', '  41.68',\n",
       "       '  10.48', '  15.29', '  16.38', '  15.29', '  15.29', '  15.29',\n",
       "       '  15.77', '  14.92', '   9.69', '   9.99', '  15.29', '  15.29',\n",
       "       '  58.21', '  15.29', '   3.90', '  34.82', '   7.73', '  15.29',\n",
       "       '  15.29', '  15.29', '   7.38', '  12.82', '  20.65', '  21.71',\n",
       "       '  15.29', '   4.83', '  18.63', '  40.50', '  19.72', '  20.28',\n",
       "       ' 171.84', '   9.37', '   3.09', '  35.25', '  23.96', '  15.09',\n",
       "       '  15.36', ' 101.09', ' 156.31', '  72.50', '  96.10', '   3.92',\n",
       "       '  58.21', '  96.54', '  17.36', '  18.09', '  94.33', '  36.41',\n",
       "       '  51.45', '  13.76', ' 129.36', '  29.82', '  59.11', '   7.96',\n",
       "       ' 127.99', '  23.87', '   5.61', '  37.09', '  26.32', '  99.99',\n",
       "       '  82.44', '  77.33', '   4.03', '  52.15', '  23.33', '  32.44',\n",
       "       '   8.63', '   8.30', '  27.25', '  74.67', '  44.35', '   3.60',\n",
       "       '  13.82', '  18.77', ' 115.83', '   3.15', '  98.63', ' 154.71',\n",
       "       '  74.18', '  58.21', '  58.21', ' 139.10', '  41.06', '  36.74',\n",
       "       '  53.40', '  45.63', '  65.30', '  38.02', '   6.70', '  20.31',\n",
       "       '  58.21', '  28.07', ' 107.71', '  18.90', '  36.93', '  36.71',\n",
       "       '  36.68', '  54.88', '  22.47', '  13.86', '  34.98', '  32.02',\n",
       "       '  29.63', ' 330.85', '  23.84', '  26.74', ' 276.04', '  27.14',\n",
       "       '  38.34', '  59.28', '  64.00', '  30.02', '  36.29', '  26.34',\n",
       "       '  69.94', ' 139.36', '  35.04', '  25.36', '  50.17', '  55.64',\n",
       "       '  11.63', '  23.84', '  38.65', '  30.94', '  59.06', '  40.35',\n",
       "       '  12.08', ' 168.72', '  32.94', ' 123.07', '  42.47', ' 223.49',\n",
       "       '  60.81', '  42.45', '  32.77', '  79.90', '  32.17', '  58.42',\n",
       "       '  28.90', '  70.42', ' 122.55', '  34.99', '  45.75', ' 115.46',\n",
       "       ' 104.72', '  61.25', '  30.70', '  43.96', ' 188.61', '  23.49',\n",
       "       ' 114.61', '  91.55', '  19.04', '  18.02', ' 103.86', '  96.87',\n",
       "       '  79.78', '  13.11', ' 204.26', '  75.84', ' 175.68', '  88.80',\n",
       "       '   1.69', '  70.98', '   3.75', '  69.92', '  84.56', '  58.62',\n",
       "       ' 120.21', '  74.12', '  35.94', '  43.60', '  86.42', '  79.74',\n",
       "       '  21.85', '  77.76', ' 118.38', '  68.57', '  56.64', '  64.81',\n",
       "       '   9.90', '  31.31', '  43.93', ' 196.19', ' 102.69', ' 338.24',\n",
       "       '  47.85', '  27.37', '  24.04', '  15.90', '   0.54', '  49.00',\n",
       "       '  24.55', ' 256.71', '  79.84', '  41.26', '  45.08', '  59.65',\n",
       "       '  24.95', '  81.94', '   5.32', ' 134.85', '  23.99', '  47.19',\n",
       "       ' 144.10', ' 172.76', '  71.98', ' 155.72', '  37.98', '  32.84',\n",
       "       '   7.65', '  77.99', '  65.99', '  36.16', '  58.97', '  16.66',\n",
       "       '  17.02', '  70.88', '  46.70', '  61.80', '  99.73', '  14.71',\n",
       "       '  46.16', '  85.21', ' 170.03', ' 301.83', '  19.79', '  30.40',\n",
       "       '  27.44', '  65.23', '  32.36', '  98.96', '  22.34', '  23.26',\n",
       "       '  30.09', ' 177.75', '  21.44', ' 108.19', '  21.29', '  65.49',\n",
       "       '  95.13', '  21.58', '  22.38', '  22.73', ' 166.27', ' 113.64',\n",
       "       '  46.49', '  67.70', '  38.16', ' 251.84', '  91.19', ' 134.78',\n",
       "       '  67.46', '  57.11', '  70.46', '   3.10', '  59.62'],\n",
       "      dtype='<U37')"
      ]
     },
     "execution_count": 4,
     "metadata": {},
     "output_type": "execute_result"
    }
   ],
   "source": [
    "RBGS_basic[:,22]"
   ]
  },
  {
   "cell_type": "code",
   "execution_count": 18,
   "id": "5ddbd744-c887-46b9-875f-deeb17003291",
   "metadata": {},
   "outputs": [],
   "source": [
    "lg_LTIR=np.zeros(len(idx_in_RBGS))\n",
    "for i in range(len(idx_in_RBGS)):\n",
    "    if not np.isnan(idx_in_RBGS[i]):\n",
    "        idx=int(idx_in_RBGS[i])\n",
    "        dist_RBGS=float(RBGS_basic[idx,22])\n",
    "        TIR_RBGS=float(RBGS_basic[idx,25].replace(':',''))\n",
    "        lg_LTIR[i]=TIR_RBGS-np.log10(dist_RBGS**2)+np.log10(read_distance(basic_info[i+1,0])**2)"
   ]
  },
  {
   "cell_type": "code",
   "execution_count": 40,
   "id": "142f5544-3506-4def-adae-664381bf2d1d",
   "metadata": {},
   "outputs": [
    {
     "data": {
      "image/png": "[encoded data removed]",
      "text/plain": [
       "<Figure size 640x480 with 1 Axes>"
      ]
     },
     "metadata": {},
     "output_type": "display_data"
    }
   ],
   "source": [
    "lg_LTIR[lg_LTIR==0]=np.nan\n",
    "plt.figure()\n",
    "plt.hist(lg_LTIR)\n",
    "plt.xlabel(r'log $L_{\\rm TIR}~\\rm (L_{\\odot})$')\n",
    "plt.ylabel('Frequency')\n",
    "plt.savefig('plots/sample_dist/TIR_dist.pdf')"
   ]
  },
  {
   "cell_type": "code",
   "execution_count": 27,
   "id": "ed1967fe-a5f7-4b54-8a7a-1493ed052797",
   "metadata": {},
   "outputs": [
    {
     "data": {
      "text/plain": [
       "array(['NGC4569', '12:36:49.80', '+13:09:46.0', 'nan', '1', 'NGC4569'],\n",
       "      dtype='<U16')"
      ]
     },
     "execution_count": 27,
     "metadata": {},
     "output_type": "execute_result"
    }
   ],
   "source": [
    "np.nanargmin(lg_LTIR)\n",
    "basic_info[62]"
   ]
  },
  {
   "cell_type": "code",
   "execution_count": 28,
   "id": "dc01b899-36bc-4402-8642-be353b525eec",
   "metadata": {},
   "outputs": [
    {
     "name": "stderr",
     "output_type": "stream",
     "text": [
      "/home/zj/.local/lib/python3.8/site-packages/my_script.py:228: RuntimeWarning: divide by zero encountered in log10\n",
      "  lg_value[0]=np.log10(value[0])\n",
      "/home/zj/.local/lib/python3.8/site-packages/my_script.py:229: RuntimeWarning: divide by zero encountered in double_scalars\n",
      "  lg_value[1]=value[1]/value[0]/np.log(10)\n"
     ]
    }
   ],
   "source": [
    "lg_LCO10=np.zeros([len(sample_info)-1,2])\n",
    "co_mol=mol_data('/home/zj/Documents/radex_mol/','co.dat')\n",
    "typCOTb=run_myradex_of(Tkin=35,nH2=1e4,abundance_Kvir=1e-4,molecule=co_mol,Tbg=2.73)[0]\n",
    "COr21=typCOTb[1]/typCOTb[0]\n",
    "basic_info=sample_info\n",
    "\n",
    "def load_mol(molname,data):\n",
    "    idx=np.where(data[0]==molname)[0][0]\n",
    "    nline=len(np.where(data[1:,idx+1]!='')[0])\n",
    "    Jup=np.arange(nline)+1\n",
    "    SED=data[Jup,idx:idx+3].astype(float)\n",
    "    return SED\n",
    "def line_flux_lum(flux,frequency,redshift,distance):\n",
    "    alpha=3.25e7/(frequency/1e9/(1+redshift))**2*distance**2/(1+redshift)**3\n",
    "    lum=flux*np.array([alpha]).T\n",
    "    return lum\n",
    "for i in range(1,len(basic_info)):\n",
    "    sourcename=basic_info[i,0]\n",
    "    data=np.loadtxt('beam_matched_flux/%s.csv'%sourcename.replace(' ',''),delimiter=',',dtype=str)\n",
    "    distance=read_distance(sourcename)\n",
    "    redshift=read_redshift(sourcename)\n",
    "    CO_SLED=load_mol('CO Jup',data)\n",
    "    CO_Jup=CO_SLED[:,0].astype(int)\n",
    "    detJ=CO_Jup[~np.isnan(CO_SLED).any(axis=1)]\n",
    "    if len(detJ)==0 or min(detJ)>2:\n",
    "        continue\n",
    "    if min(detJ)==1:    \n",
    "        lum=line_flux_lum(CO_SLED[:,1:3],co_mol.rad_data[CO_Jup-1,3],redshift,distance)\n",
    "        lg_LCO10[i-1]=log_value(lum[min(detJ)-1])\n",
    "    elif min(detJ)==2:\n",
    "        lum=line_flux_lum(CO_SLED[:,1:3],co_mol.rad_data[CO_Jup-1,3],redshift,distance)\n",
    "        lg_LCO10[i-1]=log_value(lum[min(detJ)-1]*COr21)\n",
    "lg_LCO10[lg_LCO10==0]=np.nan"
   ]
  },
  {
   "cell_type": "code",
   "execution_count": 46,
   "id": "b9dae888-0274-40ad-bc06-9c7cb87bd3a6",
   "metadata": {},
   "outputs": [
    {
     "data": {
      "image/png": "[encoded data removed]",
      "text/plain": [
       "<Figure size 700x700 with 1 Axes>"
      ]
     },
     "metadata": {},
     "output_type": "display_data"
    }
   ],
   "source": [
    "plt.figure(figsize=[7,7])\n",
    "plt.errorbar(lg_LTIR,lg_LCI10[:,0],yerr=lg_LCI10[:,1],fmt='o')\n",
    "plt.xlabel(r'log $L_{\\rm TIR}~\\rm (L_{\\odot})$)')\n",
    "plt.ylabel(r'log $L^\\prime_{\\rm CI~1-0}$')\n",
    "plt.savefig('plots/sample_dist/TIR_CI10.pdf')"
   ]
  },
  {
   "cell_type": "code",
   "execution_count": 45,
   "id": "3b478328-6c6b-41af-9bff-ce40f138fd81",
   "metadata": {},
   "outputs": [
    {
     "data": {
      "text/plain": [
       "array([[8.29349242e+00, 9.71422825e-03],\n",
       "       [9.21592699e+00, 2.98652206e-02],\n",
       "       [8.80370668e+00, 6.83682994e-02],\n",
       "       [8.73049334e+00, 9.39979548e-02],\n",
       "       [8.75197366e+00, 8.11448408e-02],\n",
       "       [9.65338007e+00, 5.60214904e-02],\n",
       "       [           nan,            nan],\n",
       "       [8.70905641e+00, 1.09328169e-01],\n",
       "       [           nan,            nan],\n",
       "       [           nan,            nan],\n",
       "       [9.55063503e+00, 1.80383665e-02],\n",
       "       [8.87708801e+00, 1.34079785e-01],\n",
       "       [8.48058684e+00, 1.06199927e-01],\n",
       "       [           nan,            nan],\n",
       "       [8.74965275e+00, 5.35618198e-02],\n",
       "       [8.82014172e+00, 1.13418752e-01],\n",
       "       [8.60698350e+00, 1.40198931e-01],\n",
       "       [           nan,            nan],\n",
       "       [9.45701634e+00, 2.13766387e-02],\n",
       "       [8.47481034e+00, 9.61813645e-02],\n",
       "       [8.75879695e+00, 4.40214040e-02],\n",
       "       [9.10775049e+00, 2.95546547e-02],\n",
       "       [9.02913380e+00, 8.15992387e-02],\n",
       "       [9.01489643e+00, 3.55928069e-02],\n",
       "       [8.79453267e+00, 1.11851291e-01],\n",
       "       [7.36313837e+00, 2.11255104e-02],\n",
       "       [7.49659089e+00, 1.83739973e-02],\n",
       "       [8.47679391e+00, 1.26421339e-01],\n",
       "       [7.46713262e+00, 6.74247141e-02],\n",
       "       [7.92879257e+00, 5.69135914e-02],\n",
       "       [7.93794749e+00, 1.23167711e-01],\n",
       "       [8.33942438e+00, 3.10210344e-02],\n",
       "       [8.38914380e+00, 3.02753365e-02],\n",
       "       [7.22618531e+00, 1.09069390e-01],\n",
       "       [8.00746089e+00, 8.79268336e-02],\n",
       "       [           nan,            nan],\n",
       "       [           nan,            nan],\n",
       "       [           nan,            nan],\n",
       "       [8.10144867e+00, 3.85154128e-02],\n",
       "       [8.00685666e+00, 5.20162592e-02],\n",
       "       [8.03715002e+00, 4.92816433e-02],\n",
       "       [8.53028259e+00, 1.44450121e-01],\n",
       "       [7.94968379e+00, 1.02201929e-01],\n",
       "       [           nan,            nan],\n",
       "       [7.55411334e+00, 2.08045261e-02],\n",
       "       [7.68952869e+00, 1.07997123e-01],\n",
       "       [8.80596465e+00, 2.86921279e-02],\n",
       "       [7.17905778e+00, 1.43356188e-01],\n",
       "       [7.38865877e+00, 8.54910397e-02],\n",
       "       [7.44622305e+00, 5.24148513e-02],\n",
       "       [8.82342180e+00, 8.62355072e-02],\n",
       "       [8.80647157e+00, 8.96677662e-02],\n",
       "       [8.63038031e+00, 7.61635845e-02],\n",
       "       [8.40143671e+00, 1.07067263e-01],\n",
       "       [           nan,            nan],\n",
       "       [           nan,            nan],\n",
       "       [           nan,            nan],\n",
       "       [8.25378638e+00, 8.01774428e-02],\n",
       "       [7.92970123e+00, 7.08921875e-02],\n",
       "       [8.24966215e+00, 1.38035219e-01],\n",
       "       [           nan,            nan],\n",
       "       [5.26429194e+00, 6.18156379e-02],\n",
       "       [7.28136672e+00, 9.58775116e-02],\n",
       "       [6.70685097e+00, 7.67692266e-02],\n",
       "       [7.30711314e+00, 4.64486077e-02],\n",
       "       [7.19838051e+00, 1.10243984e-01],\n",
       "       [8.96347364e+00, 9.96965320e-02],\n",
       "       [6.93777824e+00, 2.31122063e-02],\n",
       "       [8.89928594e+00, 4.63572762e-02],\n",
       "       [8.49631677e+00, 7.42503469e-02],\n",
       "       [7.38835284e+00, 7.47791823e-02],\n",
       "       [7.36618194e+00, 4.96862331e-02],\n",
       "       [           nan,            nan],\n",
       "       [7.87699582e+00, 1.04372855e-01],\n",
       "       [1.00660914e+01, 9.91137407e-02],\n",
       "       [9.48561046e+00, 9.30631033e-02],\n",
       "       [9.07029482e+00, 8.30268862e-02],\n",
       "       [           nan,            nan],\n",
       "       [9.05407797e+00, 1.38998097e-01],\n",
       "       [9.63698130e+00, 1.32406854e-01],\n",
       "       [9.42887846e+00, 5.55579463e-02],\n",
       "       [8.97823809e+00, 1.37019909e-01],\n",
       "       [8.35370893e+00, 1.25147164e-01],\n",
       "       [           nan,            nan],\n",
       "       [7.10146013e+00, 3.34072678e-02],\n",
       "       [           nan,            nan],\n",
       "       [8.72395511e+00, 1.37457814e-01],\n",
       "       [           nan,            nan],\n",
       "       [8.41385883e+00, 1.23169602e-01],\n",
       "       [7.43646717e+00, 1.32727664e-01],\n",
       "       [8.95589373e+00, 6.25120845e-02],\n",
       "       [8.17829043e+00, 6.02244301e-02],\n",
       "       [8.10248893e+00, 4.44394354e-02],\n",
       "       [8.73723992e+00, 6.41001952e-02],\n",
       "       [           nan,            nan],\n",
       "       [9.24627933e+00, 6.02090077e-02],\n",
       "       [9.39189261e+00, 6.28485082e-02],\n",
       "       [9.25652801e+00, 3.32988986e-02],\n",
       "       [           nan,            nan],\n",
       "       [9.02230685e+00, 6.47510410e-02],\n",
       "       [8.71438979e+00, 2.48714902e-02],\n",
       "       [9.32679325e+00, 6.54304304e-02],\n",
       "       [9.21492020e+00, 8.00457039e-02],\n",
       "       [8.96348774e+00, 1.05205753e-01],\n",
       "       [7.89738264e+00, 5.13241942e-02]])"
      ]
     },
     "execution_count": 45,
     "metadata": {},
     "output_type": "execute_result"
    }
   ],
   "source": [
    "ci_mol=mol_data('/home/zj/Documents/radex_mol/','catom.dat')\n",
    "lg_LCI10=np.zeros([len(sample_info)-1,2])\n",
    "for i in range(1,len(basic_info)):\n",
    "    sourcename=basic_info[i,0]\n",
    "    data=np.loadtxt('beam_matched_flux/%s.csv'%sourcename.replace(' ',''),delimiter=',',dtype=str)\n",
    "    distance=read_distance(sourcename)\n",
    "    redshift=read_redshift(sourcename)\n",
    "    CI_SLED=load_mol('CI Jup',data)\n",
    "    CI_Jup=CI_SLED[:,0].astype(int)\n",
    "    CI_SLED[CI_SLED[:,2]/CI_SLED[:,1]>1/3]=np.nan\n",
    "    detJ=CI_Jup[~np.isnan(CI_SLED).any(axis=1)]\n",
    "    CI_lum=np.zeros_like(CI_SLED)\n",
    "    CI_lum[:,0]=CI_SLED[:,0]\n",
    "    CI_lum[:,1:3]=line_flux_lum(CI_SLED[CI_Jup-1,1:3],ci_mol.rad_data[CI_Jup-1,3],redshift,distance)\n",
    "    lg_LCI10[i-1]=log_value(CI_lum[0,1:3])\n",
    "lg_LCI10"
   ]
  },
  {
   "cell_type": "code",
   "execution_count": 77,
   "id": "3de53e85-0411-486c-af38-e518cf7f384f",
   "metadata": {},
   "outputs": [],
   "source": [
    "def match_str_list(tstr,olist):\n",
    "    result=[]\n",
    "    for i in range(len(olist)):\n",
    "        if olist[i].strip()==tstr.strip():\n",
    "            result.append(i)\n",
    "    return result\n",
    "lumtable=np.loadtxt('references/Liu16_luminosity.csv',delimiter=',',dtype=str)\n",
    "destable=np.loadtxt('references/Liu16_surden.csv',delimiter=',',dtype=str)\n",
    "lumtable=np.char.strip(lumtable)\n",
    "destable=np.char.strip(destable)"
   ]
  },
  {
   "cell_type": "code",
   "execution_count": 91,
   "id": "ebc348e5-5c22-45c1-a69e-5fd7c0ea3564",
   "metadata": {},
   "outputs": [
    {
     "data": {
      "text/plain": [
       "Text(0, 0.5, 'log $\\\\Sigma_{\\\\rm SFR\\\\_IR}~\\\\rm (M_{\\\\odot}yr^{-1}kpc^{-2})$')"
      ]
     },
     "execution_count": 91,
     "metadata": {},
     "output_type": "execute_result"
    },
    {
     "data": {
      "image/png": "[encoded data removed]",
      "text/plain": [
       "<Figure size 700x700 with 1 Axes>"
      ]
     },
     "metadata": {},
     "output_type": "display_data"
    }
   ],
   "source": [
    "plt.figure(figsize=[7,7])\n",
    "plt.errorbar(lumtable[1:,5].astype(float),destable[1:,8].astype(float),fmt='o', ecolor='b',elinewidth=1,ms=4,mfc=\"w\",mec='k',capthick=1,capsize=3)\n",
    "plt.xlabel(r'log $L_{\\rm IR}~\\rm (L_{\\odot})$')\n",
    "plt.ylabel(r'log $\\Sigma_{\\rm SFR\\_IR}~\\rm (M_{\\odot}yr^{-1}kpc^{-2})$')"
   ]
  },
  {
   "cell_type": "code",
   "execution_count": 188,
   "id": "abea5713-f771-404f-a1db-32182188fcdd",
   "metadata": {},
   "outputs": [
    {
     "data": {
      "image/png": "[encoded data removed]",
      "text/plain": [
       "<Figure size 700x700 with 1 Axes>"
      ]
     },
     "metadata": {},
     "output_type": "display_data"
    }
   ],
   "source": [
    "ngidx=lumtable[1:,0]=='Normal Galaxies'\n",
    "ulidx=lumtable[1:,0]=='(U)LIRGs'\n",
    "lgIR=lumtable[1:,5].astype(float)\n",
    "Distance=lumtable[1:,2].astype(float)\n",
    "Diameter=np.zeros(len(destable)-1)\n",
    "for i in range(1,len(destable)):\n",
    "    dia=destable[i,2]\n",
    "    dialist=dia.split('+')\n",
    "    if len(dialist)==1:\n",
    "        Diameter[i-1]=float(dialist[0])\n",
    "    elif len(dialist)==2:\n",
    "        Diameter[i-1]=np.sqrt(float(dialist[0])**2+float(dialist[1])**2)\n",
    "size=Diameter*Distance*1e6*np.pi/180/3600\n",
    "area=np.pi*size**2 /2\n",
    "SigmaIR=lgIR-np.log10(area)\n",
    "plt.figure(figsize=[7,7])\n",
    "plt.errorbar(lgIR[ngidx],SigmaIR[ngidx],fmt='o', ecolor='b',elinewidth=1,ms=4,mfc=\"w\",mec='b',capthick=1,capsize=3,label='Normal Galaxies')\n",
    "plt.errorbar(lgIR[ulidx],SigmaIR[ulidx],fmt='o', ecolor='b',elinewidth=1,ms=4,mfc=\"w\",mec='r',capthick=1,capsize=3,label='(U)LIRGs')\n",
    "plt.legend()\n",
    "plt.xlabel(r'log $L_{\\rm IR}~\\rm (L_{\\odot})$')\n",
    "plt.ylabel(r'log $\\Sigma_{\\rm IR}~\\rm (L_{\\odot}pc^{-2})$')\n",
    "plt.savefig('plots/sample_dist/TIR_SigmaTIR.pdf')"
   ]
  },
  {
   "cell_type": "code",
   "execution_count": 145,
   "id": "539912d4-a7f6-469a-9086-53a0318b0745",
   "metadata": {},
   "outputs": [],
   "source": [
    "Liu_cor=[]\n",
    "for i in range(1,len(lumtable)):\n",
    "    nedtable=Ned.query_object(lumtable[i,1])\n",
    "    Liu_cor.append(SkyCoord(nedtable[0]['RA'],nedtable[0]['DEC'],frame=\"icrs\",unit=(u.deg, u.deg)))"
   ]
  },
  {
   "cell_type": "code",
   "execution_count": 159,
   "id": "7571f717-f58f-47aa-8462-f742e8e424a2",
   "metadata": {},
   "outputs": [],
   "source": [
    "idx_in_Liu=np.zeros(len(sample_info)-1)\n",
    "idx_in_Liu[:]=np.nan\n",
    "for i in range(1,len(sample_info)):\n",
    "    targcor=sample_cor[i-1]\n",
    "    sep=np.zeros(len(Liu_cor))\n",
    "    for j in range(len(Liu_cor)):\n",
    "        sep[j]=targcor.separation(Liu_cor[j]).deg\n",
    "    idx=np.argmin(sep)\n",
    "    if sep[idx]<1/60:\n",
    "        idx_in_Liu[i-1]=idx"
   ]
  },
  {
   "cell_type": "code",
   "execution_count": 163,
   "id": "938ab629-3b22-4026-a044-efb1ca5ef0ee",
   "metadata": {},
   "outputs": [],
   "source": [
    "sample_dia=np.zeros(len(sample_info)-1)\n",
    "sample_dia[:]=np.nan\n",
    "for i in range(len(idx_in_Liu)):\n",
    "    if np.isnan(idx_in_Liu[i]):\n",
    "          continue\n",
    "    dialist=destable[int(idx_in_Liu[i])+1,2].split('+')\n",
    "    if len(dialist)==1:\n",
    "        sample_dia[i]=float(dialist[0])\n",
    "    elif len(dialist)==2:\n",
    "        sample_dia[i]=np.sqrt(float(dialist[0])**2+float(dialist[1])**2)"
   ]
  },
  {
   "cell_type": "code",
   "execution_count": 172,
   "id": "6fb11333-8d88-4449-9b42-44ed8052459e",
   "metadata": {},
   "outputs": [],
   "source": [
    "data=np.char.strip(np.loadtxt('references/basic_info.csv',delimiter=',',dtype=str))\n",
    "idx=np.where(data[0]=='Size / “')[0][0]\n",
    "apexsam_dia=np.loadtxt('references/basic_info.csv',delimiter=',',dtype=str)[1:,idx].astype(float)\n",
    "for i in range(26):\n",
    "    if np.isnan(sample_dia[i]):\n",
    "        sample_dia[i]=apexsam_dia[i]"
   ]
  },
  {
   "cell_type": "code",
   "execution_count": 187,
   "id": "d77a34d9-1845-4df8-91bc-f1d6dcd297b0",
   "metadata": {},
   "outputs": [],
   "source": [
    "#np.savetxt('references/total_info_v2.csv',sample_info,delimiter=',',fmt='%s')\n",
    "#basic_info=np.loadtxt('references/total_info_v2.csv',delimiter=',',dtype=str)\n",
    "#newcol=np.concatenate([['Size/arcsec'],sample_dia])\n",
    "#basic_info_new=np.concatenate([basic_info,np.array([newcol]).T],axis=1)\n",
    "#np.savetxt('references/total_info_v2_new.csv',basic_info_new,delimiter=',',fmt='%s')"
   ]
  },
  {
   "cell_type": "code",
   "execution_count": 189,
   "id": "5a687c97-9e4e-4145-b5fe-de6862001568",
   "metadata": {},
   "outputs": [
    {
     "data": {
      "text/plain": [
       "1.1330900354567985"
      ]
     },
     "execution_count": 189,
     "metadata": {},
     "output_type": "execute_result"
    }
   ],
   "source": [
    "np.pi/4/np.log(2)"
   ]
  }
 ],
 "metadata": {
  "kernelspec": {
   "display_name": "Python 3 (ipykernel)",
   "language": "python",
   "name": "python3"
  },
  "language_info": {
   "codemirror_mode": {
    "name": "ipython",
    "version": 3
   },
   "file_extension": ".py",
   "mimetype": "text/x-python",
   "name": "python",
   "nbconvert_exporter": "python",
   "pygments_lexer": "ipython3",
   "version": "3.8.10"
  }
 },
 "nbformat": 4,
 "nbformat_minor": 5
}
